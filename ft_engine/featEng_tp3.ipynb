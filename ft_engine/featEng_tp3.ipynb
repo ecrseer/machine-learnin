{
 "cells": [
  {
   "cell_type": "markdown",
   "id": "0d0eea0f",
   "metadata": {},
   "source": [
    "# Questao 1"
   ]
  },
  {
   "cell_type": "code",
   "id": "44938bec",
   "metadata": {
    "ExecuteTime": {
     "end_time": "2025-06-15T14:48:50.621158Z",
     "start_time": "2025-06-15T14:48:46.729338Z"
    }
   },
   "source": [
    "import numpy as np\n",
    "import matplotlib.pyplot as plt\n",
    "from sklearn.datasets import load_files\n",
    "from sklearn.feature_extraction.text import TfidfVectorizer\n",
    "from sklearn.linear_model import LogisticRegression\n",
    "from sklearn.model_selection import GridSearchCV\n",
    "from sklearn.pipeline import Pipeline\n",
    "\n",
    "\n",
    "def carregar_dados_imdb():\n",
    "    \"\"\"Carrega o dataset de reviews positivos e negativos do IMDb.\"\"\"\n",
    "    reviews_train = load_files(\"aclImdb/train/\", categories=['pos', 'neg'], encoding='utf-8', random_state=42)\n",
    "    reviews_test = load_files(\"aclImdb/test/\", categories=['pos', 'neg'], encoding='utf-8', random_state=42)\n",
    "    return reviews_train.data, reviews_train.target, reviews_test.data, reviews_test.target\n",
    "\n",
    "\n",
    "def redimensionar_texto_tfidf(textos_treino, vetor_config):\n",
    "    \"\"\"Converte texto em matriz TF-IDF e retorna a forma (dimensão) e o vetorizador.\"\"\"\n",
    "    vetor = TfidfVectorizer(**vetor_config)\n",
    "    matriz = vetor.fit_transform(textos_treino)\n",
    "    print(f\"\\n[1] Redimensionamento de features com TF-IDF:\")\n",
    "    print(f\"- Número de documentos: {matriz.shape[0]}\")\n",
    "    print(f\"- Número de features (palavras/ngramas): {matriz.shape[1]}\")\n",
    "    print(f\"- Primeiras 10 features: {vetor.get_feature_names_out()[:10]}\")\n",
    "    return vetor, matriz\n",
    "\n",
    "\n",
    "X_train, y_train, X_test, y_test = carregar_dados_imdb()\n",
    "\n",
    "vetor_config = {\"min_df\": 5, \"stop_words\": \"english\", \"ngram_range\": (1, 2)}\n",
    "vetor, matriz = redimensionar_texto_tfidf(X_train, vetor_config)"
   ],
   "outputs": [
    {
     "name": "stdout",
     "output_type": "stream",
     "text": [
      "\n",
      "[1] Redimensionamento de features com TF-IDF:\n",
      "- Número de documentos: 20476\n",
      "- Número de features (palavras/ngramas): 66970\n",
      "- Primeiras 10 features: ['00' '000' '000 00' '000 000' '000 budget' '000 feet' '000 year'\n",
      " '000 years' '007' '01']\n"
     ]
    }
   ],
   "execution_count": 17
  },
  {
   "cell_type": "markdown",
   "id": "3c94bc27",
   "metadata": {},
   "source": [
    "# Questao 2\n"
   ]
  },
  {
   "cell_type": "code",
   "id": "a7611407",
   "metadata": {
    "ExecuteTime": {
     "end_time": "2025-06-15T14:49:56.427048Z",
     "start_time": "2025-06-15T14:49:53.854074Z"
    }
   },
   "source": [
    "def exibir_extremos_tfidf(vetor, textos_treino, top_n=10):\n",
    "    \"\"\"Exibe as features com os maiores e menores valores máximos de TF-IDF no conjunto de treino.\"\"\"\n",
    "    matriz_tfidf = vetor.transform(textos_treino)\n",
    "    max_tfidf = matriz_tfidf.max(axis=0).toarray().ravel()\n",
    "    feature_names = np.array(vetor.get_feature_names_out())\n",
    "    indices_ordenados = max_tfidf.argsort()[::-1]\n",
    "\n",
    "    print(f\"\\n[1.5] Top {top_n} features com maiores valores de TF-IDF:\")\n",
    "    for idx in indices_ordenados[:top_n]:\n",
    "        print(f\"{feature_names[idx]}: {max_tfidf[idx]:.4f}\")\n",
    "\n",
    "    print(f\"\\n[1.5] Top {top_n} features com menores valores de TF-IDF:\")\n",
    "    for idx in indices_ordenados[-top_n:]:\n",
    "        print(f\"{feature_names[idx]}: {max_tfidf[idx]:.4f}\")\n",
    "\n",
    "\n",
    "exibir_extremos_tfidf(vetor, X_train)\n"
   ],
   "outputs": [
    {
     "name": "stdout",
     "output_type": "stream",
     "text": [
      "\n",
      "[1.5] Top 10 features com maiores valores de TF-IDF:\n",
      "pokemon: 0.8860\n",
      "doodlebops: 0.8533\n",
      "casper: 0.8497\n",
      "raj: 0.8227\n",
      "dev: 0.8164\n",
      "zizek: 0.8116\n",
      "darkman: 0.8074\n",
      "demons: 0.7975\n",
      "joan: 0.7857\n",
      "zatoichi: 0.7837\n",
      "\n",
      "[1.5] Top 10 features com menores valores de TF-IDF:\n",
      "seven dwarfs: 0.0668\n",
      "enrico ratso: 0.0656\n",
      "snake like: 0.0651\n",
      "supposed budget: 0.0650\n",
      "horace: 0.0647\n",
      "scene stealing: 0.0639\n",
      "vampire cloak: 0.0639\n",
      "intercontinental: 0.0629\n",
      "literally br: 0.0600\n",
      "stubbornly: 0.0596\n"
     ]
    }
   ],
   "execution_count": 22
  },
  {
   "cell_type": "markdown",
   "id": "35628f30",
   "metadata": {},
   "source": "# Questão 3:\n"
  },
  {
   "cell_type": "code",
   "execution_count": 14,
   "id": "deaa9f3c",
   "metadata": {},
   "outputs": [
    {
     "name": "stdout",
     "output_type": "stream",
     "text": [
      "Features Originais (primeiras 5 observações):\n",
      " [[5.1 3.5 1.4 0.2]\n",
      " [4.9 3.  1.4 0.2]\n",
      " [4.7 3.2 1.3 0.2]\n",
      " [4.6 3.1 1.5 0.2]\n",
      " [5.  3.6 1.4 0.2]]\n",
      "\n",
      "Features Normalizadas (L2, primeiras 5 observações):\n",
      " [[0.80377277 0.55160877 0.22064351 0.0315205 ]\n",
      " [0.82813287 0.50702013 0.23660939 0.03380134]\n",
      " [0.80533308 0.54831188 0.2227517  0.03426949]\n",
      " [0.80003025 0.53915082 0.26087943 0.03478392]\n",
      " [0.790965   0.5694948  0.2214702  0.0316386 ]]\n",
      "\n",
      "Norma L2 da primeira observação normalizada: 12.247448713915889\n"
     ]
    }
   ],
   "source": [
    "from sklearn.preprocessing import Normalizer\n",
    "from sklearn import datasets\n",
    "import numpy as np\n",
    "\n",
    "iris = datasets.load_iris()\n"
   ]
  }
 ],
 "metadata": {
  "kernelspec": {
   "display_name": ".venv",
   "language": "python",
   "name": "python3"
  },
  "language_info": {
   "codemirror_mode": {
    "name": "ipython",
    "version": 3
   },
   "file_extension": ".py",
   "mimetype": "text/x-python",
   "name": "python",
   "nbconvert_exporter": "python",
   "pygments_lexer": "ipython3",
   "version": "3.13.3"
  }
 },
 "nbformat": 4,
 "nbformat_minor": 5
}
