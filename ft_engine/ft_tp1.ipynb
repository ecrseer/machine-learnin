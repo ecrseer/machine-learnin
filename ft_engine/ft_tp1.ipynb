{
  "cells": [
    {
      "cell_type": "markdown",
      "metadata": {},
      "source": [
        "# instalando o palmerpenguins\n"
      ]
    },
    {
      "cell_type": "code",
      "execution_count": null,
      "metadata": {
        "colab": {
          "base_uri": "https://localhost:8080/"
        },
        "id": "IEWlqbUxTG8A",
        "outputId": "3cdc75e0-21be-4588-c5a0-35ec19b0262a"
      },
      "outputs": [
        {
          "name": "stdout",
          "output_type": "stream",
          "text": [
            "Collecting palmerpenguins\n",
            "  Downloading palmerpenguins-0.1.4-py3-none-any.whl.metadata (2.0 kB)\n",
            "Requirement already satisfied: pandas in /usr/local/lib/python3.11/dist-packages (from palmerpenguins) (2.2.2)\n",
            "Requirement already satisfied: numpy in /usr/local/lib/python3.11/dist-packages (from palmerpenguins) (2.0.2)\n",
            "Requirement already satisfied: python-dateutil>=2.8.2 in /usr/local/lib/python3.11/dist-packages (from pandas->palmerpenguins) (2.9.0.post0)\n",
            "Requirement already satisfied: pytz>=2020.1 in /usr/local/lib/python3.11/dist-packages (from pandas->palmerpenguins) (2025.2)\n",
            "Requirement already satisfied: tzdata>=2022.7 in /usr/local/lib/python3.11/dist-packages (from pandas->palmerpenguins) (2025.2)\n",
            "Requirement already satisfied: six>=1.5 in /usr/local/lib/python3.11/dist-packages (from python-dateutil>=2.8.2->pandas->palmerpenguins) (1.17.0)\n",
            "Downloading palmerpenguins-0.1.4-py3-none-any.whl (17 kB)\n",
            "Installing collected packages: palmerpenguins\n",
            "Successfully installed palmerpenguins-0.1.4\n"
          ]
        }
      ],
      "source": [
        "!pip install palmerpenguins"
      ]
    },
    {
      "cell_type": "markdown",
      "metadata": {
        "id": "mW-JYQrCVO3T"
      },
      "source": [
        "# Exercicio 3 : bins fixos"
      ]
    },
    {
      "cell_type": "code",
      "execution_count": 2,
      "metadata": {
        "colab": {
          "base_uri": "https://localhost:8080/"
        },
        "id": "sGr5ECYpTfN0",
        "outputId": "a34dcf0c-94cd-43f5-91cd-83e7a39d312b"
      },
      "outputs": [
        {
          "name": "stdout",
          "output_type": "stream",
          "text": [
            "\n",
            "Decis:\n",
            "0.1    2007.0\n",
            "0.2    2007.0\n",
            "0.3    2007.0\n",
            "0.4    2008.0\n",
            "0.5    2008.0\n",
            "0.6    2008.0\n",
            "0.7    2009.0\n",
            "0.8    2009.0\n",
            "0.9    2009.0\n",
            "Name: year, dtype: float64\n",
            "\n",
            "DataFrame com bin fixo intervalo:\n",
            "       species     island  bill_length_mm  bill_depth_mm  flipper_length_mm  \\\n",
            "0       Adelie  Torgersen            39.1           18.7              181.0   \n",
            "1       Adelie  Torgersen            39.5           17.4              186.0   \n",
            "2       Adelie  Torgersen            40.3           18.0              195.0   \n",
            "3       Adelie  Torgersen             NaN            NaN                NaN   \n",
            "4       Adelie  Torgersen            36.7           19.3              193.0   \n",
            "..         ...        ...             ...            ...                ...   \n",
            "339  Chinstrap      Dream            55.8           19.8              207.0   \n",
            "340  Chinstrap      Dream            43.5           18.1              202.0   \n",
            "341  Chinstrap      Dream            49.6           18.2              193.0   \n",
            "342  Chinstrap      Dream            50.8           19.0              210.0   \n",
            "343  Chinstrap      Dream            50.2           18.7              198.0   \n",
            "\n",
            "     body_mass_g     sex  year    bin_fixo_intervalo  \n",
            "0         3750.0    male  2007  (2006.998, 2007.667]  \n",
            "1         3800.0  female  2007  (2006.998, 2007.667]  \n",
            "2         3250.0  female  2007  (2006.998, 2007.667]  \n",
            "3            NaN     NaN  2007  (2006.998, 2007.667]  \n",
            "4         3450.0  female  2007  (2006.998, 2007.667]  \n",
            "..           ...     ...   ...                   ...  \n",
            "339       4000.0    male  2009    (2008.333, 2009.0]  \n",
            "340       3400.0  female  2009    (2008.333, 2009.0]  \n",
            "341       3775.0    male  2009    (2008.333, 2009.0]  \n",
            "342       4100.0    male  2009    (2008.333, 2009.0]  \n",
            "343       3775.0  female  2009    (2008.333, 2009.0]  \n",
            "\n",
            "[344 rows x 9 columns]\n"
          ]
        }
      ],
      "source": [
        "import pandas as pd\n",
        "from palmerpenguins import load_penguins\n",
        "import numpy as np\n",
        "import json\n",
        "\n",
        "df = load_penguins()\n",
        "\n",
        "decis = df['year'].quantile([.1, .2, .3, .4, .5, .6, .7, .8, .9])\n",
        "print(\"\\nDecis:\")\n",
        "print(decis)\n",
        "\n",
        "binarizado = pd.cut(df['year'],bins=3)\n",
        "df['bin_fixo_intervalo'] = binarizado\n",
        "\n",
        "print(\"\\nDataFrame com bin fixo intervalo:\")\n",
        "print(df)\n"
      ]
    },
    {
      "cell_type": "markdown",
      "metadata": {
        "id": "rK9QhZaHVLPI"
      },
      "source": [
        "# Exercicio 4 : bins variaveis"
      ]
    },
    {
      "cell_type": "code",
      "execution_count": null,
      "metadata": {
        "colab": {
          "base_uri": "https://localhost:8080/",
          "height": 671
        },
        "id": "PdkOdlu_VKSj",
        "outputId": "590fd1ca-8e54-42f6-e1da-b99ffcff8697"
      },
      "outputs": [
        {
          "name": "stdout",
          "output_type": "stream",
          "text": [
            "       species     island  bill_length_mm  bill_depth_mm  flipper_length_mm  \\\n",
            "0       Adelie  Torgersen            39.1           18.7              181.0   \n",
            "1       Adelie  Torgersen            39.5           17.4              186.0   \n",
            "2       Adelie  Torgersen            40.3           18.0              195.0   \n",
            "3       Adelie  Torgersen             NaN            NaN                NaN   \n",
            "4       Adelie  Torgersen            36.7           19.3              193.0   \n",
            "..         ...        ...             ...            ...                ...   \n",
            "339  Chinstrap      Dream            55.8           19.8              207.0   \n",
            "340  Chinstrap      Dream            43.5           18.1              202.0   \n",
            "341  Chinstrap      Dream            49.6           18.2              193.0   \n",
            "342  Chinstrap      Dream            50.8           19.0              210.0   \n",
            "343  Chinstrap      Dream            50.2           18.7              198.0   \n",
            "\n",
            "     body_mass_g     sex  year  \n",
            "0         3750.0    male  2007  \n",
            "1         3800.0  female  2007  \n",
            "2         3250.0  female  2007  \n",
            "3            NaN     NaN  2007  \n",
            "4         3450.0  female  2007  \n",
            "..           ...     ...   ...  \n",
            "339       4000.0    male  2009  \n",
            "340       3400.0  female  2009  \n",
            "341       3775.0    male  2009  \n",
            "342       4100.0    male  2009  \n",
            "343       3775.0  female  2009  \n",
            "\n",
            "[344 rows x 8 columns]\n"
          ]
        },
        {
          "data": {
            "text/html": [
              "<div>\n",
              "<style scoped>\n",
              "    .dataframe tbody tr th:only-of-type {\n",
              "        vertical-align: middle;\n",
              "    }\n",
              "\n",
              "    .dataframe tbody tr th {\n",
              "        vertical-align: top;\n",
              "    }\n",
              "\n",
              "    .dataframe thead th {\n",
              "        text-align: right;\n",
              "    }\n",
              "</style>\n",
              "<table border=\"1\" class=\"dataframe\">\n",
              "  <thead>\n",
              "    <tr style=\"text-align: right;\">\n",
              "      <th></th>\n",
              "      <th>bill_length_mm</th>\n",
              "    </tr>\n",
              "  </thead>\n",
              "  <tbody>\n",
              "    <tr>\n",
              "      <th>0.25</th>\n",
              "      <td>39.225</td>\n",
              "    </tr>\n",
              "    <tr>\n",
              "      <th>0.50</th>\n",
              "      <td>44.450</td>\n",
              "    </tr>\n",
              "    <tr>\n",
              "      <th>0.75</th>\n",
              "      <td>48.500</td>\n",
              "    </tr>\n",
              "  </tbody>\n",
              "</table>\n",
              "</div><br><label><b>dtype:</b> float64</label>"
            ],
            "text/plain": [
              "0.25    39.225\n",
              "0.50    44.450\n",
              "0.75    48.500\n",
              "Name: bill_length_mm, dtype: float64"
            ]
          },
          "execution_count": 6,
          "metadata": {},
          "output_type": "execute_result"
        }
      ],
      "source": [
        "\n",
        "\n",
        "df2 = load_penguins()\n",
        "print(df2)\n",
        "large_counts = df2['bill_length_mm']\n",
        "\n",
        "\n",
        "pd.qcut(large_counts, 4, labels=False)\n",
        "large_counts_series = pd.Series(large_counts)\n",
        "large_counts_series.quantile([0.25, 0.5, 0.75])\n"
      ]
    },
    {
      "cell_type": "markdown",
      "metadata": {
        "id": "R37l8o-yzWvk"
      },
      "source": [
        "# Exercicio 5 : FunctionTransformer\n",
        "\n",
        "ele permite"
      ]
    },
    {
      "cell_type": "code",
      "execution_count": null,
      "metadata": {
        "colab": {
          "base_uri": "https://localhost:8080/"
        },
        "id": "EsCjLefqzWKa",
        "outputId": "3f9a8b8e-4366-4543-bbdf-9846e6e6a7eb"
      },
      "outputs": [
        {
          "data": {
            "text/plain": [
              "array([[ 4,  6],\n",
              "       [ 8, 16],\n",
              "       [24, 46]])"
            ]
          },
          "execution_count": 2,
          "metadata": {},
          "output_type": "execute_result"
        }
      ],
      "source": [
        "import numpy as np\n",
        "from sklearn.preprocessing import FunctionTransformer\n",
        "\n",
        "\n",
        "features = np.array([[2, 3],\n",
        "                     [4, 8],\n",
        "                     [12, 23]])\n",
        "\n",
        "def dobrar(x: int) -> int:\n",
        "    return x *2\n",
        "\n",
        "oDobro = FunctionTransformer(dobrar)\n",
        "\n",
        "oDobro.transform(features)\n",
        "\n"
      ]
    },
    {
      "cell_type": "markdown",
      "metadata": {},
      "source": [
        "# Exercicio 7 : min max"
      ]
    },
    {
      "cell_type": "code",
      "execution_count": 2,
      "metadata": {},
      "outputs": [
        {
          "data": {
            "text/plain": [
              "array([[0.        ],\n",
              "       [0.28571429],\n",
              "       [0.35714286],\n",
              "       [0.42857143],\n",
              "       [1.        ]])"
            ]
          },
          "execution_count": 2,
          "metadata": {},
          "output_type": "execute_result"
        }
      ],
      "source": [
        "import numpy as np\n",
        "from sklearn import preprocessing\n",
        "\n",
        "features = np.array([[-500.5],\n",
        "                    [-100.1],\n",
        "                    [0],\n",
        "                    [100.1],\n",
        "                    [900.9]])\n",
        "\n",
        "normalizador = preprocessing.MinMaxScaler(feature_range=(0, 1))\n",
        "features_normalizadas = normalizador.fit_transform(features)\n",
        "features_normalizadas"
      ]
    },
    {
      "cell_type": "markdown",
      "metadata": {},
      "source": [
        "# exercicio 8 "
      ]
    },
    {
      "cell_type": "code",
      "execution_count": null,
      "metadata": {},
      "outputs": [],
      "source": []
    }
  ],
  "metadata": {
    "colab": {
      "provenance": []
    },
    "kernelspec": {
      "display_name": ".venv",
      "language": "python",
      "name": "python3"
    },
    "language_info": {
      "codemirror_mode": {
        "name": "ipython",
        "version": 3
      },
      "file_extension": ".py",
      "mimetype": "text/x-python",
      "name": "python",
      "nbconvert_exporter": "python",
      "pygments_lexer": "ipython3",
      "version": "3.13.2"
    }
  },
  "nbformat": 4,
  "nbformat_minor": 0
}
