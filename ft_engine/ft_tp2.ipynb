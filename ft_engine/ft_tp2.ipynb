{
 "cells": [
  {
   "cell_type": "markdown",
   "id": "0d0eea0f",
   "metadata": {},
   "source": [
    "# exercício 1"
   ]
  },
  {
   "cell_type": "code",
   "execution_count": null,
   "id": "44938bec",
   "metadata": {},
   "outputs": [
    {
     "name": "stdout",
     "output_type": "stream",
     "text": [
      "[5.1 3.5 1.4 0.2]\n",
      "Uma feature: [[5.1]\n",
      " [4.9]\n",
      " [4.7]\n",
      " [4.6]\n",
      " [5. ]]\n",
      "Dados originais: [[5.1 3.5 1.4 0.2]\n",
      " [4.9 3.  1.4 0.2]\n",
      " [4.7 3.2 1.3 0.2]\n",
      " [4.6 3.1 1.5 0.2]\n",
      " [5.  3.6 1.4 0.2]]\n",
      "Dados normalizados: [[-0.90068117]\n",
      " [-1.14301691]\n",
      " [-1.38535265]\n",
      " [-1.50652052]\n",
      " [-1.02184904]]\n",
      "\n",
      "\n",
      "média: -4.736951571734001e-16\n",
      "desvio padrao: 1.0\n"
     ]
    }
   ],
   "source": [
    "import numpy as np\n",
    "from sklearn import preprocessing\n",
    "from sklearn.datasets import load_iris\n",
    "\n",
    "\n",
    "iris_dataset = load_iris()\n",
    "dados_originais = iris_dataset['data']\n",
    "uma_feature = dados_originais[:, [0]]\n",
    "\n",
    "print(iris_dataset.data[0])\n",
    "print(f\"Uma feature: {uma_feature[0:5]}\")\n",
    "print(f\"Dados originais: {dados_originais[0:5]}\")\n",
    "\n",
    "normalizador = preprocessing.StandardScaler()\n",
    "dados_transformados = normalizador.fit_transform(uma_feature)\n",
    "print(f\"Dados normalizados: {dados_transformados[0:5]}\\n\\n\")\n",
    "\n",
    "\n",
    "print(f\"média: {np.mean(dados_transformados)}\")\n",
    "print(f\"desvio padrao: {np.std(dados_transformados)}\")\n"
   ]
  },
  {
   "cell_type": "markdown",
   "id": "3c94bc27",
   "metadata": {},
   "source": [
    "# exercício 2\n"
   ]
  },
  {
   "cell_type": "code",
   "execution_count": 3,
   "id": "a7611407",
   "metadata": {},
   "outputs": [
    {
     "name": "stdout",
     "output_type": "stream",
     "text": [
      "[np.float64(-0.9006811702978088), np.float64(-1.1430169111851105), np.float64(-1.3853526520724133), np.float64(-1.5065205225160652), np.float64(-1.0218490407414595)]\n"
     ]
    }
   ],
   "source": [
    "\n",
    "import numpy as np\n",
    "from sklearn import preprocessing\n",
    "from sklearn.datasets import load_iris\n",
    "\n",
    "\n",
    "iris_dataset = load_iris()\n",
    "dados_originais = iris_dataset['data']\n",
    "uma_feature = dados_originais[:, [0]]\n",
    "\n",
    "desvio_padrao = np.std(uma_feature)\n",
    "media = np.mean(uma_feature)  \n",
    "\n",
    "padronizados=[]\n",
    "for exemplo in uma_feature:\n",
    "    amostra=exemplo[0]    \n",
    "    menos_media=amostra - media  \n",
    "    std=menos_media / desvio_padrao\n",
    "    padronizados.append(std)\n",
    "\n",
    "print(padronizados[0:5])\n"
   ]
  },
  {
   "cell_type": "markdown",
   "id": "baae314b",
   "metadata": {},
   "source": [
    "# Exercicio 5   "
   ]
  },
  {
   "cell_type": "code",
   "execution_count": 10,
   "id": "76c5ce6d",
   "metadata": {},
   "outputs": [
    {
     "name": "stdout",
     "output_type": "stream",
     "text": [
      "X_train.shape: (284, 80)\n",
      "X_train_features_filtradas.shape: (284, 40)\n"
     ]
    }
   ],
   "source": [
    "from sklearn.datasets import load_breast_cancer\n",
    "from sklearn.feature_selection import SelectPercentile\n",
    "from sklearn.model_selection import train_test_split\n",
    "import numpy as np\n",
    "\n",
    "\n",
    "\n",
    "rng = np.random.RandomState(42)\n",
    "\n",
    "cancer = load_breast_cancer()\n",
    "noise = rng.normal(size=(len(cancer.data), 50))\n",
    "X_w_ruido = np.hstack([cancer.data, noise])\n",
    "\n",
    "X_train, X_test, y_train, y_test = train_test_split(\n",
    "    X_w_ruido, cancer.target, random_state=0, test_size=.5)\n",
    "\n",
    "\n",
    "metade_features = SelectPercentile(percentile=50)\n",
    "metade_features.fit(X_train, y_train)\n",
    "\n",
    "X_train_features_filtradas = metade_features.transform(X_train)\n",
    "\n",
    "print(\"X_train.shape: {}\".format(X_train.shape))\n",
    "print(\"X_train_features_filtradas.shape: {}\".format(X_train_features_filtradas.shape))"
   ]
  }
 ],
 "metadata": {
  "kernelspec": {
   "display_name": ".venv",
   "language": "python",
   "name": "python3"
  },
  "language_info": {
   "codemirror_mode": {
    "name": "ipython",
    "version": 3
   },
   "file_extension": ".py",
   "mimetype": "text/x-python",
   "name": "python",
   "nbconvert_exporter": "python",
   "pygments_lexer": "ipython3",
   "version": "3.13.3"
  }
 },
 "nbformat": 4,
 "nbformat_minor": 5
}
