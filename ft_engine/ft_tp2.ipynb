{
 "cells": [
  {
   "cell_type": "markdown",
   "id": "0d0eea0f",
   "metadata": {},
   "source": [
    "# ex 1"
   ]
  },
  {
   "cell_type": "code",
   "execution_count": 9,
   "id": "44938bec",
   "metadata": {},
   "outputs": [
    {
     "name": "stdout",
     "output_type": "stream",
     "text": [
      "Dados originais: [[-1000.1]\n",
      " [ -200.2]\n",
      " [  500.5]\n",
      " [  600.6]\n",
      " [ 9000.9]]\n",
      "\n",
      "\n",
      "Dados normalizados: [[-0.76058269]\n",
      " [-0.54177196]\n",
      " [-0.35009716]\n",
      " [-0.32271504]\n",
      " [ 1.97516685]]\n",
      "média: 4.4408920985006264e-17\n",
      "desvio padrao: 1.0\n"
     ]
    }
   ],
   "source": [
    "import numpy as np\n",
    "from sklearn import preprocessing\n",
    "\n",
    "# Create feature\n",
    "dados_originais = np.array([[-1000.1],\n",
    "              [-200.2],\n",
    "              [500.5],\n",
    "              [600.6],\n",
    "              [9000.9]])\n",
    "\n",
    "print(f\"Dados originais: {dados_originais}\\n\\n\")\n",
    "\n",
    "normalizador = preprocessing.StandardScaler()\n",
    "dados_transformados = normalizador.fit_transform(dados_originais)\n",
    "print(f\"Dados normalizados: {dados_transformados}\")\n",
    "\n",
    "\n",
    "print(f\"média: {np.mean(dados_transformados)}\")\n",
    "print(f\"desvio padrao: {np.std(dados_transformados)}\")\n"
   ]
  }
 ],
 "metadata": {
  "kernelspec": {
   "display_name": ".venv",
   "language": "python",
   "name": "python3"
  },
  "language_info": {
   "codemirror_mode": {
    "name": "ipython",
    "version": 3
   },
   "file_extension": ".py",
   "mimetype": "text/x-python",
   "name": "python",
   "nbconvert_exporter": "python",
   "pygments_lexer": "ipython3",
   "version": "3.13.2"
  }
 },
 "nbformat": 4,
 "nbformat_minor": 5
}
