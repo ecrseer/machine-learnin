{
 "cells": [
  {
   "cell_type": "markdown",
   "id": "0d0eea0f",
   "metadata": {},
   "source": [
    "# exercício 1"
   ]
  },
  {
   "cell_type": "code",
   "execution_count": null,
   "id": "44938bec",
   "metadata": {},
   "outputs": [
    {
     "name": "stdout",
     "output_type": "stream",
     "text": [
      "[5.1 3.5 1.4 0.2]\n",
      "Uma feature: [[5.1]\n",
      " [4.9]\n",
      " [4.7]\n",
      " [4.6]\n",
      " [5. ]]\n",
      "Dados originais: [[5.1 3.5 1.4 0.2]\n",
      " [4.9 3.  1.4 0.2]\n",
      " [4.7 3.2 1.3 0.2]\n",
      " [4.6 3.1 1.5 0.2]\n",
      " [5.  3.6 1.4 0.2]]\n",
      "Dados normalizados: [[-0.90068117]\n",
      " [-1.14301691]\n",
      " [-1.38535265]\n",
      " [-1.50652052]\n",
      " [-1.02184904]]\n",
      "\n",
      "\n",
      "média: -4.736951571734001e-16\n",
      "desvio padrao: 1.0\n"
     ]
    }
   ],
   "source": [
    "import numpy as np\n",
    "from sklearn import preprocessing\n",
    "from sklearn.datasets import load_iris\n",
    "\n",
    "\n",
    "iris_dataset = load_iris()\n",
    "dados_originais = iris_dataset['data']\n",
    "uma_feature = dados_originais[:, [0]]\n",
    "\n",
    "print(iris_dataset.data[0])\n",
    "print(f\"Uma feature: {uma_feature[0:5]}\")\n",
    "print(f\"Dados originais: {dados_originais[0:5]}\")\n",
    "\n",
    "normalizador = preprocessing.StandardScaler()\n",
    "dados_transformados = normalizador.fit_transform(uma_feature)\n",
    "print(f\"Dados normalizados: {dados_transformados[0:5]}\\n\\n\")\n",
    "\n",
    "\n",
    "print(f\"média: {np.mean(dados_transformados)}\")\n",
    "print(f\"desvio padrao: {np.std(dados_transformados)}\")\n"
   ]
  }
 ],
 "metadata": {
  "kernelspec": {
   "display_name": ".venv",
   "language": "python",
   "name": "python3"
  },
  "language_info": {
   "codemirror_mode": {
    "name": "ipython",
    "version": 3
   },
   "file_extension": ".py",
   "mimetype": "text/x-python",
   "name": "python",
   "nbconvert_exporter": "python",
   "pygments_lexer": "ipython3",
   "version": "3.13.2"
  }
 },
 "nbformat": 4,
 "nbformat_minor": 5
}
