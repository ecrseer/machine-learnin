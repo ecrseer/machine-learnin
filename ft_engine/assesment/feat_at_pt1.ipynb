{
 "cells": [
  {
   "metadata": {},
   "cell_type": "markdown",
   "source": "# Questão 2-  Identificando features continuas no breast dataset",
   "id": "8ff797664f7fec0b"
  },
  {
   "metadata": {
    "ExecuteTime": {
     "end_time": "2025-06-17T01:01:19.970951Z",
     "start_time": "2025-06-17T01:01:19.962148Z"
    }
   },
   "cell_type": "code",
   "source": [
    "import numpy as np\n",
    "import pandas as pd\n",
    "from sklearn.datasets import load_breast_cancer\n",
    "from sklearn.preprocessing import KBinsDiscretizer\n",
    "\n",
    "\n",
    "\n",
    "def carregar_dataset_breast_cancer():\n",
    "    dataset = load_breast_cancer()\n",
    "    df = pd.DataFrame(data=dataset.data, columns=dataset.feature_names)\n",
    "    return df\n",
    "\n",
    "def identificar_features_continuas(df):\n",
    "    return df.select_dtypes(include=[np.number]).columns.tolist()\n",
    "\n",
    "\n",
    "df = carregar_dataset_breast_cancer()\n",
    "features_continuas = identificar_features_continuas(df)\n",
    "feature1, feature2 = features_continuas[0], features_continuas[1]\n",
    "print(f\"features continuas: ${features_continuas}\")\n",
    "\n",
    "features_selecionadas = features_continuas[:2]"
   ],
   "id": "9603a19d388d8f0c",
   "outputs": [
    {
     "name": "stdout",
     "output_type": "stream",
     "text": [
      "features continuas: $['mean radius', 'mean texture', 'mean perimeter', 'mean area', 'mean smoothness', 'mean compactness', 'mean concavity', 'mean concave points', 'mean symmetry', 'mean fractal dimension', 'radius error', 'texture error', 'perimeter error', 'area error', 'smoothness error', 'compactness error', 'concavity error', 'concave points error', 'symmetry error', 'fractal dimension error', 'worst radius', 'worst texture', 'worst perimeter', 'worst area', 'worst smoothness', 'worst compactness', 'worst concavity', 'worst concave points', 'worst symmetry', 'worst fractal dimension']\n"
     ]
    }
   ],
   "execution_count": 15
  },
  {
   "metadata": {},
   "cell_type": "markdown",
   "source": "#### Questão 2 -b) Selecione duas features contínuas do dataset e realize a discretização dessas variáveis por meio de quantização por bins fixos. Apresente os resultados.",
   "id": "a1802f1e7f61822c"
  },
  {
   "metadata": {
    "ExecuteTime": {
     "end_time": "2025-06-17T00:55:04.312129Z",
     "start_time": "2025-06-17T00:55:04.305562Z"
    }
   },
   "cell_type": "code",
   "source": [
    "def discretizar_com_bins_fixos(df, feature, n_bins=3):\n",
    "    df[f'{feature}_bin_fixo'] = pd.cut(df[feature], bins=n_bins)\n",
    "    return df[[feature, f'{feature}_bin_fixo']]\n",
    "\n",
    "\n",
    "bins_fixos = discretizar_com_bins_fixos(df.copy(), feature1)\n",
    "\n",
    "print(\"Discretizacao bins fixo:\")\n",
    "print(bins_fixos.head())"
   ],
   "id": "2ac39153dda644a6",
   "outputs": [
    {
     "name": "stdout",
     "output_type": "stream",
     "text": [
      "Discretizacao bins fixo:\n",
      "   mean radius mean radius_bin_fixo\n",
      "0        17.99     (14.024, 21.067]\n",
      "1        20.57     (14.024, 21.067]\n",
      "2        19.69     (14.024, 21.067]\n",
      "3        11.42       (6.96, 14.024]\n",
      "4        20.29     (14.024, 21.067]\n"
     ]
    }
   ],
   "execution_count": 9
  },
  {
   "metadata": {},
   "cell_type": "markdown",
   "source": "#### Questao 2 - c)Selecione duas features contínuas do dataset (podem ser as mesmas do item (b)) e realize a discretização dessas variáveis por meio de quantização por bins variáveis. Apresente os resultados.",
   "id": "d931061d5817800b"
  },
  {
   "metadata": {
    "ExecuteTime": {
     "end_time": "2025-06-17T00:55:32.957252Z",
     "start_time": "2025-06-17T00:55:32.945655Z"
    }
   },
   "cell_type": "code",
   "source": [
    "\n",
    "def discretizar_com_bins_variaveis(df, feature, n_bins=3):\n",
    "    df[f'{feature}_bin_quantil'] = pd.qcut(df[feature], q=n_bins)\n",
    "    return df[[feature, f'{feature}_bin_quantil']]\n",
    "\n",
    "\n",
    "\n",
    "bins_variaveis = discretizar_com_bins_variaveis(df.copy(), feature2)\n",
    "print(\"\\nDiscretiza bin VARIAVEL:\")\n",
    "print(bins_variaveis.head())"
   ],
   "id": "ba212cb0a78490f1",
   "outputs": [
    {
     "name": "stdout",
     "output_type": "stream",
     "text": [
      "\n",
      "Discretiza bin VARIAVEL:\n",
      "   mean texture     mean texture_bin_quantil\n",
      "0         10.38  (9.709000000000001, 17.193]\n",
      "1         17.77              (17.193, 20.74]\n",
      "2         21.25               (20.74, 39.28]\n",
      "3         20.38              (17.193, 20.74]\n",
      "4         14.34  (9.709000000000001, 17.193]\n"
     ]
    }
   ],
   "execution_count": 11
  },
  {
   "metadata": {},
   "cell_type": "markdown",
   "source": "##### Questao 3 Considere o breast cancer dataset.a)Defina uma função personalizada que realize uma normalização nas features do dataset usando FunctionTransformer do sklearn.",
   "id": "8561b1aa5a23bea0"
  },
  {
   "metadata": {
    "ExecuteTime": {
     "end_time": "2025-06-17T01:02:20.817085Z",
     "start_time": "2025-06-17T01:02:20.812247Z"
    }
   },
   "cell_type": "code",
   "source": [
    "import numpy as np\n",
    "from sklearn.preprocessing import FunctionTransformer\n",
    "\n",
    "\n",
    "\n",
    "def normalizar_features(df, features):\n",
    "    transformer = FunctionTransformer(\n",
    "        func=lambda x: (x - x.min(axis=0)) / (x.max(axis=0) - x.min(axis=0)),\n",
    "        validate=True\n",
    "    )\n",
    "    dados = df[features].to_numpy()\n",
    "    normalizadas = transformer.fit_transform(dados)\n",
    "    df_normalizado = pd.DataFrame(normalizadas, columns=[f'{f}_normalizado' for f in features])\n",
    "    return df_normalizado\n",
    "\n",
    "\n",
    "normalizados = normalizar_features(df.copy(), [feature1, feature2])\n",
    "\n",
    "print(\"\\nFeatures normalizadas com FunctionTransformer (min-max):\")\n",
    "print(normalizados.head())\n",
    "\n"
   ],
   "id": "f2b714b93246a0e2",
   "outputs": [
    {
     "name": "stdout",
     "output_type": "stream",
     "text": [
      "\n",
      "Features normalizadas com FunctionTransformer (min-max):\n",
      "   mean radius_normalizado  mean texture_normalizado\n",
      "0                 0.521037                  0.022658\n",
      "1                 0.643144                  0.272574\n",
      "2                 0.601496                  0.390260\n",
      "3                 0.210090                  0.360839\n",
      "4                 0.629893                  0.156578\n"
     ]
    }
   ],
   "execution_count": 17
  },
  {
   "metadata": {},
   "cell_type": "markdown",
   "source": "##### Questao 5 a) Considere o breast cancer dataset. Faça uma normalização das features do dataset usando o MinMaxScaler. Apresente os resultados obtidos.",
   "id": "4ac472a5912a81c7"
  },
  {
   "metadata": {
    "ExecuteTime": {
     "end_time": "2025-06-17T01:05:01.823672Z",
     "start_time": "2025-06-17T01:05:01.815060Z"
    }
   },
   "cell_type": "code",
   "source": [
    "from sklearn.preprocessing import MinMaxScaler\n",
    "\n",
    "\n",
    "def normalizar_com_minmax_scaler(df, features):\n",
    "    scaler = MinMaxScaler()\n",
    "    normalizadas = scaler.fit_transform(df[features])\n",
    "    df_normalizado = pd.DataFrame(normalizadas, columns=[f'{f}_minmax' for f in features])\n",
    "    return df_normalizado\n",
    "\n",
    "\n",
    "normalizados_minmax = normalizar_com_minmax_scaler(df.copy(), [feature1, feature2])\n",
    "\n",
    "print(\"\\nfeatures normalizadas   MinMaxScaler:\")\n",
    "print(normalizados_minmax.head())\n"
   ],
   "id": "58725ae3ebc5c3f9",
   "outputs": [
    {
     "name": "stdout",
     "output_type": "stream",
     "text": [
      "\n",
      "Features normalizadas com MinMaxScaler:\n",
      "   mean radius_minmax  mean texture_minmax\n",
      "0            0.521037             0.022658\n",
      "1            0.643144             0.272574\n",
      "2            0.601496             0.390260\n",
      "3            0.210090             0.360839\n",
      "4            0.629893             0.156578\n"
     ]
    }
   ],
   "execution_count": 18
  },
  {
   "metadata": {},
   "cell_type": "markdown",
   "source": "##### b) standard scaler",
   "id": "96f0ff913d500e07"
  },
  {
   "metadata": {
    "ExecuteTime": {
     "end_time": "2025-06-17T01:07:17.933381Z",
     "start_time": "2025-06-17T01:07:17.925825Z"
    }
   },
   "cell_type": "code",
   "source": [
    "from sklearn.preprocessing import StandardScaler\n",
    "\n",
    "\n",
    "def normalizar_com_standard_scaler(df, features):\n",
    "    scaler = StandardScaler()\n",
    "    normalizadas = scaler.fit_transform(df[features])\n",
    "    return pd.DataFrame(normalizadas, columns=[f'{f}_standard' for f in features])\n",
    "\n",
    "\n",
    "normalizados_standard = normalizar_com_standard_scaler(df.copy(), features_selecionadas)\n",
    "\n",
    "print(\"\\n Normalizacao  de StandardScaler:\")\n",
    "print(normalizados_standard.head())"
   ],
   "id": "1d4d0494f132e8ed",
   "outputs": [
    {
     "name": "stdout",
     "output_type": "stream",
     "text": [
      "\n",
      " Normalizacao  de StandardScaler:\n",
      "   mean radius_standard  mean texture_standard\n",
      "0              1.097064              -2.073335\n",
      "1              1.829821              -0.353632\n",
      "2              1.579888               0.456187\n",
      "3             -0.768909               0.253732\n",
      "4              1.750297              -1.151816\n"
     ]
    }
   ],
   "execution_count": 19
  },
  {
   "metadata": {},
   "cell_type": "markdown",
   "source": "#### c) norma l2",
   "id": "5be7721934f866de"
  },
  {
   "metadata": {
    "ExecuteTime": {
     "end_time": "2025-06-17T01:08:35.198856Z",
     "start_time": "2025-06-17T01:08:35.193484Z"
    }
   },
   "cell_type": "code",
   "source": [
    "from sklearn.preprocessing import Normalizer\n",
    "\n",
    "\n",
    "def aplicar_regularizacao_l2(df, features):\n",
    "    normalizer = Normalizer(norm='l2')\n",
    "    regularizadas = normalizer.fit_transform(df[features])\n",
    "    return pd.DataFrame(regularizadas, columns=[f'{f}_l2' for f in features])\n",
    "\n",
    "\n",
    "regularizados_l2 = aplicar_regularizacao_l2(df.copy(), features_selecionadas)\n",
    "\n",
    "print(\"\\nRegularização com norma L2:\")\n",
    "print(regularizados_l2.head())\n"
   ],
   "id": "b6caee74ae2df606",
   "outputs": [
    {
     "name": "stdout",
     "output_type": "stream",
     "text": [
      "\n",
      "Regularização com norma L2:\n",
      "   mean radius_l2  mean texture_l2\n",
      "0        0.866162         0.499764\n",
      "1        0.756732         0.653725\n",
      "2        0.679670         0.733518\n",
      "3        0.488838         0.872375\n",
      "4        0.816633         0.577157\n"
     ]
    }
   ],
   "execution_count": 20
  }
 ],
 "metadata": {
  "kernelspec": {
   "display_name": "Python 3",
   "language": "python",
   "name": "python3"
  },
  "language_info": {
   "codemirror_mode": {
    "name": "ipython",
    "version": 2
   },
   "file_extension": ".py",
   "mimetype": "text/x-python",
   "name": "python",
   "nbconvert_exporter": "python",
   "pygments_lexer": "ipython2",
   "version": "2.7.6"
  }
 },
 "nbformat": 4,
 "nbformat_minor": 5
}
