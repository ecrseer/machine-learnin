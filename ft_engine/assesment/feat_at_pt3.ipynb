{
 "cells": [
  {
   "cell_type": "code",
   "execution_count": null,
   "id": "initial_id",
   "metadata": {
    "collapsed": true
   },
   "outputs": [],
   "source": [
    "### questao 7 - Considere o powerlifting database (powerlifting-database)\n",
    "# ### a) Vetorize as variáveis categóricas usando One-hot Encoding. Apresente os resultados obtidos."
   ]
  },
  {
   "metadata": {},
   "cell_type": "code",
   "outputs": [],
   "execution_count": null,
   "source": "asd",
   "id": "757617199a7d29e8"
  },
  {
   "metadata": {},
   "cell_type": "markdown",
   "source": [
    "### questao 7 - Considere o powerlifting database (powerlifting-database)\n",
    "##### b) Vetorize as variáveis categóricas usando Dummy Coding. Compare os resultados desta vetorização com aqueles obtidos no item (a)"
   ],
   "id": "cddfee4b5de055b7"
  },
  {
   "metadata": {},
   "cell_type": "code",
   "outputs": [],
   "execution_count": null,
   "source": "",
   "id": "8a248b2fe9741f82"
  }
 ],
 "metadata": {
  "kernelspec": {
   "display_name": "Python 3",
   "language": "python",
   "name": "python3"
  },
  "language_info": {
   "codemirror_mode": {
    "name": "ipython",
    "version": 2
   },
   "file_extension": ".py",
   "mimetype": "text/x-python",
   "name": "python",
   "nbconvert_exporter": "python",
   "pygments_lexer": "ipython2",
   "version": "2.7.6"
  }
 },
 "nbformat": 4,
 "nbformat_minor": 5
}
