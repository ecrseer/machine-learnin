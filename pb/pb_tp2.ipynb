{
 "cells": [
  {
   "cell_type": "markdown",
   "metadata": {},
   "source": [
    "# a"
   ]
  },
  {
   "cell_type": "code",
   "execution_count": null,
   "metadata": {},
   "outputs": [
    {
     "name": "stdout",
     "output_type": "stream",
     "text": [
      "\n",
      "Número de documentos: 20476\n",
      "Número de features (palavras/ngramas): 132988\n",
      "Primeiras 10 features: ['00' '00 and' '00 in' '000' '000 00' '000 000' '000 and' '000 budget'\n",
      " '000 feet' '000 in']\n",
      "\n",
      "Top 10 termos no documento 0:\n",
      "student: 0.1547\n",
      "technical level: 0.1331\n",
      "within scenes: 0.1331\n",
      "comments: 0.1328\n",
      "but wanted: 0.1289\n",
      "my share: 0.1289\n",
      "of student: 0.1289\n",
      "an unfinished: 0.1272\n",
      "too harsh: 0.1257\n",
      "people off: 0.1243\n"
     ]
    }
   ],
   "source": [
    "import numpy as np\n",
    "from sklearn.datasets import load_files\n",
    "from sklearn.feature_extraction.text import TfidfVectorizer\n",
    "\n",
    "\n",
    "def carregar_dados_imdb():\n",
    "    dados_treino = load_files(\"../ft_engine/aclImdb/train\", categories=['pos', 'neg'], encoding='utf-8', random_state=42)\n",
    "    dados_teste = load_files(\"../ft_engine/aclImdb/test/\", categories=['pos', 'neg'], encoding='utf-8', random_state=42)\n",
    "    return dados_treino.data, dados_treino.target, dados_teste.data, dados_teste.target\n",
    "\n",
    " \n",
    "\n",
    "\n",
    "\n",
    "\n",
    "\n",
    "X_train, y_train, X_test, y_test = carregar_dados_imdb()\n",
    " \n",
    "\n",
    "\n",
    "\n",
    "def redimensionar_tfidf(textos):\n",
    "    vetor_config = {\"min_df\": 5, \"stop_words\": None, \"ngram_range\": (1, 2)}\n",
    "    vetor = TfidfVectorizer(**vetor_config)\n",
    "    matriz = vetor.fit_transform(textos)\n",
    "    print(f\"\\nNúmero de documentos: {matriz.shape[0]}\")\n",
    "    print(f\"Número de features (palavras/ngramas): {matriz.shape[1]}\")\n",
    "    print(f\"Primeiras 10 features: {vetor.get_feature_names_out()[:10]}\")\n",
    "    return vetor, matriz\n",
    "\n",
    "matriz_tfidf = redimensionar_tfidf(X_train)\n",
    "\n",
    "\n",
    "def mostrar_top_features_por_documento(vetor, matriz, doc_id=0, top_n=10):\n",
    "    vetor_tfidf = matriz[doc_id].toarray().flatten()\n",
    "    indices_ordenados = np.argsort(vetor_tfidf)[::-1][:top_n]\n",
    "    termos = vetor.get_feature_names_out()\n",
    "    print(f\"\\nTop {top_n} termos no documento {doc_id}:\")\n",
    "    for i in indices_ordenados:\n",
    "        print(f\"{termos[i]}: {vetor_tfidf[i]:.4f}\")\n",
    "\n",
    "mostrar_top_features_por_documento(matriz_tfidf[0], matriz_tfidf[1], doc_id=0, top_n=10)"
   ]
  }
 ],
 "metadata": {
  "kernelspec": {
   "display_name": ".venv",
   "language": "python",
   "name": "python3"
  },
  "language_info": {
   "codemirror_mode": {
    "name": "ipython",
    "version": 3
   },
   "file_extension": ".py",
   "mimetype": "text/x-python",
   "name": "python",
   "nbconvert_exporter": "python",
   "pygments_lexer": "ipython3",
   "version": "3.13.3"
  }
 },
 "nbformat": 4,
 "nbformat_minor": 2
}
