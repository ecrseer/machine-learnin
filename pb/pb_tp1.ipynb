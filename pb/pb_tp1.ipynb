{
 "cells": [
  {
   "cell_type": "markdown",
   "id": "e2ee07be",
   "metadata": {},
   "source": [
    "1"
   ]
  },
  {
   "cell_type": "code",
   "execution_count": 6,
   "id": "8019132f",
   "metadata": {},
   "outputs": [
    {
     "name": "stdout",
     "output_type": "stream",
     "text": [
      "----\n",
      "--treinando modelo com 1 vizinhos\n",
      "acuracia: 0.7717391304347826\n",
      "----\n",
      "--treinando modelo com 2 vizinhos\n",
      "acuracia: 0.842391304347826\n",
      "----\n",
      "--treinando modelo com 3 vizinhos\n",
      "acuracia: 0.8804347826086957\n",
      "----\n",
      "--treinando modelo com 4 vizinhos\n",
      "acuracia: 0.8260869565217391\n",
      "----\n",
      "--treinando modelo com 5 vizinhos\n",
      "acuracia: 0.8532608695652174\n",
      "----\n",
      "--treinando modelo com 6 vizinhos\n",
      "acuracia: 0.8206521739130435\n",
      "----\n",
      "--treinando modelo com 7 vizinhos\n",
      "acuracia: 0.8641304347826086\n",
      "----\n",
      "--treinando modelo com 8 vizinhos\n",
      "acuracia: 0.8641304347826086\n",
      "----\n",
      "--treinando modelo com 9 vizinhos\n",
      "acuracia: 0.8913043478260869\n",
      "----\n",
      "--treinando modelo com 10 vizinhos\n",
      "acuracia: 0.875\n"
     ]
    }
   ],
   "source": [
    "import pandas as pd\n",
    "import numpy as np\n",
    "from sklearn import  model_selection, neighbors, metrics\n",
    "from sklearn.preprocessing import LabelEncoder, StandardScaler\n",
    "\n",
    "\n",
    "iris = pd.read_csv('heart.csv')  # Replace with your actual file path\n",
    "\n",
    "# Codificamos as categrias\n",
    "colunas_categoricas = ['Sex', 'ChestPainType', 'RestingECG', 'ExerciseAngina', 'ST_Slope']\n",
    "label_encoders = {}\n",
    "\n",
    "for coluna in colunas_categoricas:\n",
    "    le = LabelEncoder()\n",
    "    iris[coluna] = le.fit_transform(iris[coluna])\n",
    "    label_encoders[coluna] = le\n",
    "\n",
    "# separamos atributo e atributo alvo do csv\n",
    "atributos = iris.drop(columns='HeartDisease')\n",
    "alvo = iris['HeartDisease']\n",
    " \n",
    "\n",
    "# ---- treinamento do modelo ----\n",
    "\n",
    "\n",
    "def treina_modelo(k):\n",
    "    # New split for each k\n",
    "    atributos_treinamento, atributos_teste, target_treino, target_teste = model_selection.train_test_split(\n",
    "        atributos, alvo, train_size=0.8, random_state=None)  # Different split each time\n",
    "    \n",
    "    scaler = StandardScaler()\n",
    "    \n",
    "    # 2. Ajustamos o scaler APENAS nos dados de TREINAMENTO\n",
    "    scaler.fit(atributos_treinamento)\n",
    "    \n",
    "    # 3. Transformamos os dados de TREINAMENTO e TESTE\n",
    "    atributos_treinamento_normalizado = scaler.transform(atributos_treinamento)\n",
    "    atributos_teste_normalizado = scaler.transform(atributos_teste)\n",
    "    \n",
    "    print(f\"----\\n--treinando modelo com {k} vizinhos\")\n",
    "    knn_modelo = neighbors.KNeighborsClassifier(n_neighbors=k)\n",
    "    knn_modelo_treinado = knn_modelo.fit(atributos_treinamento_normalizado, target_treino)\n",
    "    predicted_t = knn_modelo_treinado.predict(atributos_teste_normalizado)\n",
    "    acuracia = metrics.accuracy_score(target_teste, predicted_t)\n",
    "    print(f\"acuracia: {acuracia}\")\n",
    "    return acuracia\n",
    "\n",
    "\n",
    "for n_vizinhos_votacao in range(1, 11):\n",
    "    treina_modelo(k=n_vizinhos_votacao)\n",
    "\n"
   ]
  }
 ],
 "metadata": {
  "kernelspec": {
   "display_name": ".venv",
   "language": "python",
   "name": "python3"
  },
  "language_info": {
   "codemirror_mode": {
    "name": "ipython",
    "version": 3
   },
   "file_extension": ".py",
   "mimetype": "text/x-python",
   "name": "python",
   "nbconvert_exporter": "python",
   "pygments_lexer": "ipython3",
   "version": "3.13.7"
  }
 },
 "nbformat": 4,
 "nbformat_minor": 5
}
