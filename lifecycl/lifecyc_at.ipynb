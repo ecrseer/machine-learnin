{
 "cells": [
  {
   "cell_type": "code",
   "id": "initial_id",
   "metadata": {
    "collapsed": true,
    "ExecuteTime": {
     "end_time": "2025-07-06T04:51:59.542428Z",
     "start_time": "2025-07-06T04:51:58.498343Z"
    }
   },
   "source": "pip install ucimlrepo",
   "outputs": [
    {
     "name": "stdout",
     "output_type": "stream",
     "text": [
      "Collecting ucimlrepo\r\n",
      "  Downloading ucimlrepo-0.0.7-py3-none-any.whl.metadata (5.5 kB)\r\n",
      "Requirement already satisfied: pandas>=1.0.0 in /home/gab42/Modelos/infnet_ml/ricardo_ft_engine/.venv/lib/python3.13/site-packages (from ucimlrepo) (2.2.3)\r\n",
      "Requirement already satisfied: certifi>=2020.12.5 in /home/gab42/Modelos/infnet_ml/ricardo_ft_engine/.venv/lib/python3.13/site-packages (from ucimlrepo) (2025.4.26)\r\n",
      "Requirement already satisfied: numpy>=1.26.0 in /home/gab42/Modelos/infnet_ml/ricardo_ft_engine/.venv/lib/python3.13/site-packages (from pandas>=1.0.0->ucimlrepo) (2.2.6)\r\n",
      "Requirement already satisfied: python-dateutil>=2.8.2 in /home/gab42/Modelos/infnet_ml/ricardo_ft_engine/.venv/lib/python3.13/site-packages (from pandas>=1.0.0->ucimlrepo) (2.9.0.post0)\r\n",
      "Requirement already satisfied: pytz>=2020.1 in /home/gab42/Modelos/infnet_ml/ricardo_ft_engine/.venv/lib/python3.13/site-packages (from pandas>=1.0.0->ucimlrepo) (2025.2)\r\n",
      "Requirement already satisfied: tzdata>=2022.7 in /home/gab42/Modelos/infnet_ml/ricardo_ft_engine/.venv/lib/python3.13/site-packages (from pandas>=1.0.0->ucimlrepo) (2025.2)\r\n",
      "Requirement already satisfied: six>=1.5 in /home/gab42/Modelos/infnet_ml/ricardo_ft_engine/.venv/lib/python3.13/site-packages (from python-dateutil>=2.8.2->pandas>=1.0.0->ucimlrepo) (1.17.0)\r\n",
      "Downloading ucimlrepo-0.0.7-py3-none-any.whl (8.0 kB)\r\n",
      "Installing collected packages: ucimlrepo\r\n",
      "Successfully installed ucimlrepo-0.0.7\r\n",
      "\r\n",
      "\u001B[1m[\u001B[0m\u001B[34;49mnotice\u001B[0m\u001B[1;39;49m]\u001B[0m\u001B[39;49m A new release of pip is available: \u001B[0m\u001B[31;49m25.0.1\u001B[0m\u001B[39;49m -> \u001B[0m\u001B[32;49m25.1.1\u001B[0m\r\n",
      "\u001B[1m[\u001B[0m\u001B[34;49mnotice\u001B[0m\u001B[1;39;49m]\u001B[0m\u001B[39;49m To update, run: \u001B[0m\u001B[32;49mpip install --upgrade pip\u001B[0m\r\n",
      "Note: you may need to restart the kernel to use updated packages.\n"
     ]
    }
   ],
   "execution_count": 1
  },
  {
   "metadata": {
    "ExecuteTime": {
     "end_time": "2025-07-06T07:05:07.432143Z",
     "start_time": "2025-07-06T07:05:01.800655Z"
    }
   },
   "cell_type": "code",
   "source": [
    "from ucimlrepo import fetch_ucirepo\n",
    "from sklearn.model_selection import train_test_split\n",
    "from sklearn.linear_model import LinearRegression\n",
    "from sklearn.neighbors import KNeighborsClassifier\n",
    "from sklearn.metrics import accuracy_score, mean_squared_error\n",
    "import numpy as np\n",
    "import seaborn as sns\n",
    "import matplotlib.pyplot as plt\n",
    "\n",
    "\n",
    "# fetch dataset\n",
    "cdc_diabetes_health_indicators = fetch_ucirepo(id=891)\n",
    "\n",
    "# data (as pandas dataframes)\n",
    "X = cdc_diabetes_health_indicators.data.features\n",
    "y = cdc_diabetes_health_indicators.data.targets\n",
    "\n",
    "# metadata\n",
    "#print(cdc_diabetes_health_indicators.metadata)\n",
    "\n",
    "# variable information\n",
    "#print(cdc_diabetes_health_indicators.variables)\n",
    "\n",
    "\n",
    "y = y[\"Diabetes_binary\"]\n",
    "\n",
    "# X = X.head(1000)\n",
    "# y = y.head(1000)\n",
    "# print(X.head(10))\n",
    "\n",
    "def diagnostico_dataset(X, y):\n",
    "    print(\"📊 Distribuição dos valores de cada feature:\")\n",
    "    print(X.describe())\n",
    "    sns.countplot(x=y)\n",
    "    plt.title(\"Distribuição da variável Diabetes_binary\")\n",
    "    plt.xlabel(\"Classe (0 = saudável / 1 = diabetes)\")\n",
    "    plt.ylabel(\"Número de pessoas\")\n",
    "    plt.show()\n",
    "\n",
    "    print(\"\\n🔎 Variância das features:\")\n",
    "    print(X.var().sort_values())\n",
    "\n",
    "    print(\"\\n⚖️ Proporção das classes em y (Diabetes_binary):\")\n",
    "    print(y.value_counts(normalize=True))\n",
    "\n",
    "    print(\"\\n🧩 Features com baixa variância (< 0.01):\")\n",
    "    baixa_var = X.var()[X.var() < 0.01]\n",
    "    print(baixa_var)\n",
    "\n",
    "diagnostico_dataset(X, y)\n",
    "\n",
    "\n",
    "\n",
    "# Split data\n",
    "#X_train, X_test, y_train, y_test = train_test_split(X, y, test_size=0.2, random_state=42)\n",
    "\n",
    "# K-Nearest Neighbors (classification)\n",
    "# knn = KNeighborsClassifier(n_neighbors=5)\n",
    "# knn.fit(X_train, y_train)\n",
    "# print(\"k-NN Accuracy:\", knn.score(X_test, y_test))\n",
    "\n",
    "# Linear Regression (regression task – only if you use a continuous target!)\n",
    "# linreg = LinearRegression()\n",
    "# linreg.fit(X_train, y_train)\n",
    "# y_pred = linreg.predict(X_test)\n",
    "#\n",
    "# mse = mean_squared_error(y_test, y_pred)\n",
    "# rmse = np.sqrt(mse)\n",
    "# print(\"Linear Regression RMSE:\", rmse)\n",
    "\n"
   ],
   "id": "766471fa67962319",
   "outputs": [
    {
     "name": "stdout",
     "output_type": "stream",
     "text": [
      "📊 Distribuição dos valores de cada feature:\n",
      "              HighBP       HighChol      CholCheck            BMI  \\\n",
      "count  253680.000000  253680.000000  253680.000000  253680.000000   \n",
      "mean        0.429001       0.424121       0.962670      28.382364   \n",
      "std         0.494934       0.494210       0.189571       6.608694   \n",
      "min         0.000000       0.000000       0.000000      12.000000   \n",
      "25%         0.000000       0.000000       1.000000      24.000000   \n",
      "50%         0.000000       0.000000       1.000000      27.000000   \n",
      "75%         1.000000       1.000000       1.000000      31.000000   \n",
      "max         1.000000       1.000000       1.000000      98.000000   \n",
      "\n",
      "              Smoker         Stroke  HeartDiseaseorAttack   PhysActivity  \\\n",
      "count  253680.000000  253680.000000         253680.000000  253680.000000   \n",
      "mean        0.443169       0.040571              0.094186       0.756544   \n",
      "std         0.496761       0.197294              0.292087       0.429169   \n",
      "min         0.000000       0.000000              0.000000       0.000000   \n",
      "25%         0.000000       0.000000              0.000000       1.000000   \n",
      "50%         0.000000       0.000000              0.000000       1.000000   \n",
      "75%         1.000000       0.000000              0.000000       1.000000   \n",
      "max         1.000000       1.000000              1.000000       1.000000   \n",
      "\n",
      "              Fruits        Veggies  ...  AnyHealthcare    NoDocbcCost  \\\n",
      "count  253680.000000  253680.000000  ...  253680.000000  253680.000000   \n",
      "mean        0.634256       0.811420  ...       0.951053       0.084177   \n",
      "std         0.481639       0.391175  ...       0.215759       0.277654   \n",
      "min         0.000000       0.000000  ...       0.000000       0.000000   \n",
      "25%         0.000000       1.000000  ...       1.000000       0.000000   \n",
      "50%         1.000000       1.000000  ...       1.000000       0.000000   \n",
      "75%         1.000000       1.000000  ...       1.000000       0.000000   \n",
      "max         1.000000       1.000000  ...       1.000000       1.000000   \n",
      "\n",
      "             GenHlth       MentHlth       PhysHlth       DiffWalk  \\\n",
      "count  253680.000000  253680.000000  253680.000000  253680.000000   \n",
      "mean        2.511392       3.184772       4.242081       0.168224   \n",
      "std         1.068477       7.412847       8.717951       0.374066   \n",
      "min         1.000000       0.000000       0.000000       0.000000   \n",
      "25%         2.000000       0.000000       0.000000       0.000000   \n",
      "50%         2.000000       0.000000       0.000000       0.000000   \n",
      "75%         3.000000       2.000000       3.000000       0.000000   \n",
      "max         5.000000      30.000000      30.000000       1.000000   \n",
      "\n",
      "                 Sex            Age      Education         Income  \n",
      "count  253680.000000  253680.000000  253680.000000  253680.000000  \n",
      "mean        0.440342       8.032119       5.050434       6.053875  \n",
      "std         0.496429       3.054220       0.985774       2.071148  \n",
      "min         0.000000       1.000000       1.000000       1.000000  \n",
      "25%         0.000000       6.000000       4.000000       5.000000  \n",
      "50%         0.000000       8.000000       5.000000       7.000000  \n",
      "75%         1.000000      10.000000       6.000000       8.000000  \n",
      "max         1.000000      13.000000       6.000000       8.000000  \n",
      "\n",
      "[8 rows x 21 columns]\n"
     ]
    },
    {
     "data": {
      "text/plain": [
       "<Figure size 640x480 with 1 Axes>"
      ],
      "image/png": "[encoded data removed]"
     },
     "metadata": {},
     "output_type": "display_data"
    },
    {
     "name": "stdout",
     "output_type": "stream",
     "text": [
      "\n",
      "🔎 Variância das features:\n",
      "CholCheck                0.035937\n",
      "Stroke                   0.038925\n",
      "AnyHealthcare            0.046552\n",
      "HvyAlcoholConsump        0.053039\n",
      "NoDocbcCost              0.077091\n",
      "HeartDiseaseorAttack     0.085315\n",
      "DiffWalk                 0.139925\n",
      "Veggies                  0.153018\n",
      "PhysActivity             0.184186\n",
      "Fruits                   0.231976\n",
      "HighChol                 0.244243\n",
      "HighBP                   0.244960\n",
      "Sex                      0.246442\n",
      "Smoker                   0.246771\n",
      "Education                0.971751\n",
      "GenHlth                  1.141644\n",
      "Income                   4.289652\n",
      "Age                      9.328262\n",
      "BMI                     43.674839\n",
      "MentHlth                54.950296\n",
      "PhysHlth                76.002675\n",
      "dtype: float64\n",
      "\n",
      "⚖️ Proporção das classes em y (Diabetes_binary):\n",
      "Diabetes_binary\n",
      "0    0.860667\n",
      "1    0.139333\n",
      "Name: proportion, dtype: float64\n",
      "\n",
      "🧩 Features com baixa variância (< 0.01):\n",
      "Series([], dtype: float64)\n"
     ]
    }
   ],
   "execution_count": 15
  },
  {
   "metadata": {},
   "cell_type": "markdown",
   "source": [
    "# Questão 1 Estruturação conceitual do problema de modelagem\n",
    "\n"
   ],
   "id": "c4b13059795c4f5a"
  },
  {
   "metadata": {},
   "cell_type": "markdown",
   "source": "#### B.Justifique tecnicamente por que o problema em questão deve ser tratado como uma tarefa de classificação supervisionada, considerando a presença da variável-alvo (Diabetes_binary) e a natureza das variáveis explicativas disponíveis na base de dados.",
   "id": "a3d381a2a0f2e2b5"
  },
  {
   "metadata": {},
   "cell_type": "markdown",
   "source": "Como o problema envolve um dataset em que **já conhecemos** as features( colesterol alto, fumante, consumo de vegetais,etc) a modelagem envolverá descobrir Y, onde Y é a variável-alvo que desejamos saber, ou seja, não se trata de conhecer as features do dataset, então por isso será uma tarefa de classificação **supervisionada**.\n",
   "id": "671c5d4df689f271"
  },
  {
   "metadata": {},
   "cell_type": "markdown",
   "source": "#### C.Identifique e discuta ao menos dois desafios relevantes para a aplicação de modelos de aprendizado supervisionado neste conjunto de dados, como por exemplo: necessidade de normalização, variáveis com baixa variância, ou possível desequilíbrio entre classes.\n",
   "id": "b677fae463d50dbe"
  },
  {
   "metadata": {},
   "cell_type": "markdown",
   "source": [
    "1. Features que não contribuem:\n",
    "\n",
    "    Atráves do método `X.describe` do pandas é possível identificar que a resposta das pessoas em sua vasta maioria teve média de quase 1 para checagem de Colesterol nos ultimos 5 anos e se possuem plano de saúde, ou seja, a quase todo mundo respondeu Sim para ambos, sendo uma falta de diversidade que não contribui para o modelo aprender a identificar quem terá diabetes\n",
    "\n",
    "1.  Desequilibrio entre classes na variável-alvo:\n",
    "\n",
    "    No dataset de  CDC Behavioral Risk Factor Surveillance a variável alvo  que diz se uma pessoa tem ou não diabetes em sua maior parte ( 86%) são de pessoas que não tem diabetes, um modelo treinado por esse dataset iria adivinhar que uma pessoa não terá diabetes em grande parte do tempo, mas não será **eficaz para prever pessoas que terão diabetes, ou seja a minoria**. Para resolver isso poderiámos utilizar Downsampling reduzindo aleatoriamente o número de exemplos da classe majoritária."
   ],
   "id": "f361d87cabd7dfd"
  },
  {
   "metadata": {},
   "cell_type": "code",
   "outputs": [],
   "execution_count": null,
   "source": "a",
   "id": "5bf44efd89695924"
  }
 ],
 "metadata": {
  "kernelspec": {
   "display_name": "Python 3",
   "language": "python",
   "name": "python3"
  },
  "language_info": {
   "codemirror_mode": {
    "name": "ipython",
    "version": 2
   },
   "file_extension": ".py",
   "mimetype": "text/x-python",
   "name": "python",
   "nbconvert_exporter": "python",
   "pygments_lexer": "ipython2",
   "version": "2.7.6"
  }
 },
 "nbformat": 4,
 "nbformat_minor": 5
}
